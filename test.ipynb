{
 "metadata": {
  "language_info": {
   "codemirror_mode": {
    "name": "ipython",
    "version": 3
   },
   "file_extension": ".py",
   "mimetype": "text/x-python",
   "name": "python",
   "nbconvert_exporter": "python",
   "pygments_lexer": "ipython3",
   "version": "3.9.5"
  },
  "orig_nbformat": 4,
  "kernelspec": {
   "name": "python3",
   "display_name": "Python 3.9.5 64-bit ('vaccinate': conda)"
  },
  "interpreter": {
   "hash": "ede5cc317217f6f55152c0536e7cab7695ad1a691c729e20646489769d9ddb3f"
  }
 },
 "nbformat": 4,
 "nbformat_minor": 2,
 "cells": [
  {
   "cell_type": "code",
   "execution_count": 1,
   "metadata": {},
   "outputs": [],
   "source": [
    "from pathlib import Path\n",
    "from selenium import webdriver\n",
    "from selenium.common.exceptions import TimeoutException\n",
    "from selenium.webdriver.support.ui import WebDriverWait\n",
    "from selenium.webdriver.support import expected_conditions\n",
    "from selenium.webdriver.common.by import By\n",
    "import logging\n",
    "import os"
   ]
  },
  {
   "cell_type": "code",
   "execution_count": 2,
   "metadata": {},
   "outputs": [],
   "source": [
    "driver = webdriver.Chrome(executable_path=Path(os.getcwd()) / 'chromedriver')\n",
    "driver.get('https://ncvr.kdca.go.kr/')\n",
    "timeout = 100000\n",
    "try:\n",
    "    element_present = expected_conditions.presence_of_element_located((By.XPATH, '//frame[@src=\"/cobk/index.jsp\"]'))\n",
    "    WebDriverWait(driver, timeout).until(element_present)\n",
    "except TimeoutException:\n",
    "    logging.error(\"Timed out waiting for page to load\")\n",
    "driver.switch_to.frame(driver.find_element(By.XPATH, '//frame[@src=\"/cobk/index.jsp\"]'))"
   ]
  },
  {
   "cell_type": "code",
   "execution_count": 7,
   "metadata": {},
   "outputs": [],
   "source": [
    "driver.find_element(By.XPATH, '//div[contains(@class, \"auth01\")]').click()"
   ]
  },
  {
   "cell_type": "code",
   "execution_count": 26,
   "metadata": {},
   "outputs": [],
   "source": [
    "driver.switch_to.window(driver.window_handles[1])"
   ]
  },
  {
   "cell_type": "code",
   "execution_count": 21,
   "metadata": {},
   "outputs": [],
   "source": [
    "driver.find_element(By.XPATH, '//a[@href=\"#kt\"]').click()"
   ]
  },
  {
   "cell_type": "code",
   "execution_count": 32,
   "metadata": {},
   "outputs": [],
   "source": [
    "driver.switch_to.window(driver.window_handles[1])\n",
    "driver.find_element(By.XPATH, '//a[@href=\"#kt\"]').click()\n",
    "driver.find_element(By.XPATH, '//a[@class=\"tabApp\"]').click()\n",
    "driver.find_element(By.ID, 'nm').send_keys('조재영')\n",
    "driver.find_element(By.ID, 'mbphn_no').send_keys('01066174822')\n",
    "driver.switch_to.window(driver.window_handles[0])"
   ]
  },
  {
   "cell_type": "code",
   "execution_count": 48,
   "metadata": {},
   "outputs": [],
   "source": [
    "driver.switch_to.frame(driver.find_element(By.XPATH, '//frame[@src=\"/cobk/index.jsp\"]'))"
   ]
  },
  {
   "cell_type": "code",
   "execution_count": 49,
   "metadata": {},
   "outputs": [],
   "source": [
    "driver.find_element(By.ID, 'smsRcptAgrmYn2').click()"
   ]
  }
 ]
}